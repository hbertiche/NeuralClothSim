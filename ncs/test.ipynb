{
 "cells": [
  {
   "cell_type": "code",
   "execution_count": 12,
   "metadata": {},
   "outputs": [],
   "source": [
    "import os\n",
    "import json\n",
    "import numpy as np"
   ]
  },
  {
   "cell_type": "code",
   "execution_count": 13,
   "metadata": {},
   "outputs": [
    {
     "data": {
      "text/plain": [
       "{'experiment': {'epochs': 5000,\n",
       "  'batch_size': 32,\n",
       "  'learning_rate': 0.001,\n",
       "  'temporal_window_size': 0.5,\n",
       "  'reflect_probability': 0.0,\n",
       "  'motion_augmentation': 0.0,\n",
       "  'checkpoint': 'smpl'},\n",
       " 'body': {'model': 'smpl_female_neutral',\n",
       "  'skeleton': 'smpl',\n",
       "  'input_joints': [0, 1, 2, 3, 4, 5, 6, 9, 12, 13, 14, 16, 17, 18, 19]},\n",
       " 'garment': {'name': 'tshirt', 'blend_weights_smoothing_iterations': 10},\n",
       " 'data': {'dataset': 'smpl',\n",
       "  'train': 'toy.txt',\n",
       "  'validation': 'toy.txt',\n",
       "  'test': 'toy.txt',\n",
       "  'fps': 15},\n",
       " 'model': {'blend_weights_optimize': False},\n",
       " 'loss': {'cloth': {'type': 'baraff98', 'stretch': 10.0, 'shear': 1.0},\n",
       "  'bending': 2e-05,\n",
       "  'collision_weight': 10.0,\n",
       "  'collision_threshold': 0.004,\n",
       "  'density': 0.15,\n",
       "  'pinning': 100.0,\n",
       "  'gravity': '-Y'}}"
      ]
     },
     "execution_count": 13,
     "metadata": {},
     "output_type": "execute_result"
    }
   ],
   "source": [
    "path_or_dict = 'configs/smpl.json'\n",
    "os.path.isfile(path_or_dict)\n",
    "with open(path_or_dict, \"r\") as f:\n",
    "                json_dict = json.load(f)\n",
    "json_dict               "
   ]
  },
  {
   "cell_type": "code",
   "execution_count": 14,
   "metadata": {},
   "outputs": [],
   "source": [
    "def triangulate(faces):\n",
    "    triangles = np.int32(\n",
    "        [triangle for polygon in faces for triangle in _triangulate_recursive(polygon)])\n",
    "    ''' \n",
    "        triangles = []\n",
    "        for polygon in faces:\n",
    "            for triangle in _triangulate_recursive(polygon):\n",
    "                triangles.append(triangle)\n",
    "    '''\n",
    "        \n",
    "    \n",
    "    return triangles\n",
    "\n",
    "\n",
    "def _triangulate_recursive(face): # 处理polygon\n",
    "    if len(face) == 3:\n",
    "        return [face]\n",
    "    else:\n",
    "        return [face[:3]] + _triangulate_recursive([face[0], *face[2:]]) # *表示解包元素并合并,\n",
    "                                                                         #等效于facep[0]+face[2:]"
   ]
  },
  {
   "cell_type": "code",
   "execution_count": 15,
   "metadata": {},
   "outputs": [],
   "source": [
    "\n",
    "body_model = '../body_models/smpl_female_neutral/body.npz'\n",
    "with np.load(body_model) as model:\n",
    "    vertices = model[\"vertices\"]\n",
    "    faces = triangulate(model[\"faces\"])\n",
    "    blend_weights = model[\"blend_weights\"].astype(np.float32)\n",
    "    joints = np.float32(model[\"joints\"])\n",
    "    rest_pose = model[\"rest_pose\"]\n",
    "    parents = model[\"parents\"]\n"
   ]
  },
  {
   "cell_type": "code",
   "execution_count": 16,
   "metadata": {},
   "outputs": [
    {
     "data": {
      "text/plain": [
       "[[2, 4, 5], [2, 5, 6], [2, 6, 78], [2, 78, 10]]"
      ]
     },
     "execution_count": 16,
     "metadata": {},
     "output_type": "execute_result"
    }
   ],
   "source": [
    "polygon_test = [2,4,5,6,78,10]\n",
    "_triangulate_recursive(polygon_test)"
   ]
  },
  {
   "cell_type": "code",
   "execution_count": 17,
   "metadata": {},
   "outputs": [
    {
     "data": {
      "text/plain": [
       "array([-1,  0,  0,  0,  1,  2,  3,  4,  5,  6,  7,  8,  9,  9,  9, 12, 13,\n",
       "       14, 16, 17, 18, 19, 20, 21])"
      ]
     },
     "execution_count": 17,
     "metadata": {},
     "output_type": "execute_result"
    }
   ],
   "source": [
    "parents"
   ]
  },
  {
   "cell_type": "code",
   "execution_count": 18,
   "metadata": {},
   "outputs": [
    {
     "data": {
      "text/plain": [
       "array([[ 0.        ,  0.        ,  0.        ],\n",
       "       [ 0.0713612 , -0.08958381, -0.00804619],\n",
       "       [-0.06901202, -0.08896044, -0.00479569],\n",
       "       [-0.00250821,  0.10325686, -0.02218514],\n",
       "       [ 0.10203011, -0.45379317, -0.0147351 ],\n",
       "       [-0.10516441, -0.4596109 , -0.01398101],\n",
       "       [ 0.00107275,  0.2309145 , -0.02389815],\n",
       "       [ 0.09047622, -0.8371416 , -0.05823671],\n",
       "       [-0.09113577, -0.8432487 , -0.05587261],\n",
       "       [ 0.00309993,  0.27998674,  0.00396906],\n",
       "       [ 0.11381389, -0.89178646,  0.05613341],\n",
       "       [-0.11317899, -0.8896583 ,  0.0620271 ],\n",
       "       [ 0.0011373 ,  0.48822993, -0.04579642],\n",
       "       [ 0.07839821,  0.39776716, -0.03290576],\n",
       "       [-0.07393289,  0.39559293, -0.0378416 ],\n",
       "       [ 0.00465446,  0.5505521 ,  0.00440884],\n",
       "       [ 0.16371532,  0.42950618, -0.0401986 ],\n",
       "       [-0.16313575,  0.42837778, -0.0476438 ],\n",
       "       [ 0.41496262,  0.41753942, -0.06771705],\n",
       "       [-0.40912542,  0.4152254 , -0.06780551],\n",
       "       [ 0.65298176,  0.42654628, -0.0676733 ],\n",
       "       [-0.65430224,  0.42384735, -0.07133703],\n",
       "       [ 0.7326495 ,  0.41686374, -0.08087889],\n",
       "       [-0.73470247,  0.41659936, -0.08175635]], dtype=float32)"
      ]
     },
     "execution_count": 18,
     "metadata": {},
     "output_type": "execute_result"
    }
   ],
   "source": [
    "joints"
   ]
  },
  {
   "cell_type": "code",
   "execution_count": 19,
   "metadata": {},
   "outputs": [
    {
     "data": {
      "text/plain": [
       "[0]"
      ]
     },
     "execution_count": 19,
     "metadata": {},
     "output_type": "execute_result"
    }
   ],
   "source": [
    "root = np.nonzero(parents < 0)[0].tolist()\n",
    "root"
   ]
  },
  {
   "cell_type": "code",
   "execution_count": 20,
   "metadata": {},
   "outputs": [
    {
     "data": {
      "text/plain": [
       "array([-1,  0,  0,  0,  1,  2,  3,  4,  5,  6,  7,  8,  9,  9,  9, 12, 13,\n",
       "       14, 16, 17, 18, 19, 20, 21])"
      ]
     },
     "execution_count": 20,
     "metadata": {},
     "output_type": "execute_result"
    }
   ],
   "source": [
    "parents"
   ]
  },
  {
   "cell_type": "code",
   "execution_count": 21,
   "metadata": {},
   "outputs": [
    {
     "data": {
      "text/plain": [
       "(array([0, 1, 2], dtype=int64),)"
      ]
     },
     "execution_count": 21,
     "metadata": {},
     "output_type": "execute_result"
    }
   ],
   "source": [
    "a = [1,3,4,5]\n",
    "a = np.array(a)\n",
    "np.nonzero(a < 5)"
   ]
  },
  {
   "cell_type": "code",
   "execution_count": 22,
   "metadata": {},
   "outputs": [
    {
     "name": "stdout",
     "output_type": "stream",
     "text": [
      "depth: [[0]]\n",
      "visited: {0}\n",
      "children: [1, 2, 3]\n",
      "depth: [[0], [1, 2, 3]]\n",
      "visited: {0, 1, 2, 3}\n",
      "children: [4, 5, 6]\n",
      "depth: [[0], [1, 2, 3], [4, 5, 6]]\n",
      "visited: {0, 1, 2, 3, 4, 5, 6}\n",
      "children: [7, 8, 9]\n",
      "depth: [[0], [1, 2, 3], [4, 5, 6], [7, 8, 9]]\n",
      "visited: {0, 1, 2, 3, 4, 5, 6, 7, 8, 9}\n",
      "children: [10, 11, 12, 13, 14]\n",
      "depth: [[0], [1, 2, 3], [4, 5, 6], [7, 8, 9], [10, 11, 12, 13, 14]]\n",
      "visited: {0, 1, 2, 3, 4, 5, 6, 7, 8, 9, 10, 11, 12, 13, 14}\n",
      "children: [15, 16, 17]\n",
      "depth: [[0], [1, 2, 3], [4, 5, 6], [7, 8, 9], [10, 11, 12, 13, 14], [15, 16, 17]]\n",
      "visited: {0, 1, 2, 3, 4, 5, 6, 7, 8, 9, 10, 11, 12, 13, 14, 15, 16, 17}\n",
      "children: [18, 19]\n",
      "depth: [[0], [1, 2, 3], [4, 5, 6], [7, 8, 9], [10, 11, 12, 13, 14], [15, 16, 17], [18, 19]]\n",
      "visited: {0, 1, 2, 3, 4, 5, 6, 7, 8, 9, 10, 11, 12, 13, 14, 15, 16, 17, 18, 19}\n",
      "children: [20, 21]\n",
      "depth: [[0], [1, 2, 3], [4, 5, 6], [7, 8, 9], [10, 11, 12, 13, 14], [15, 16, 17], [18, 19], [20, 21]]\n",
      "visited: {0, 1, 2, 3, 4, 5, 6, 7, 8, 9, 10, 11, 12, 13, 14, 15, 16, 17, 18, 19, 20, 21}\n",
      "children: [22, 23]\n"
     ]
    }
   ],
   "source": [
    "root = np.nonzero(parents < 0)[0].tolist()\n",
    "assert (\n",
    "    len(root) == 1\n",
    "), \"Body model error. No root joint or multiple root joints: \" + str(root)\n",
    "root = root[0]\n",
    "depth = [[root]]\n",
    "visited = set()\n",
    "visited.add(root)\n",
    "while len(visited) < len(parents):\n",
    "    \n",
    "    print('depth:',depth)\n",
    "    print('visited:',visited)\n",
    "    children = sum(\n",
    "        [\n",
    "            np.nonzero(parents == parent)[0].tolist()\n",
    "            for parent in depth[-1]\n",
    "        ],\n",
    "        [],\n",
    "    )\n",
    "    print('children:',children)\n",
    "    depth += [children]\n",
    "    visited.update(children)\n",
    "    "
   ]
  },
  {
   "cell_type": "code",
   "execution_count": 23,
   "metadata": {},
   "outputs": [
    {
     "data": {
      "text/plain": [
       "[[0],\n",
       " [1, 2, 3],\n",
       " [4, 5, 6],\n",
       " [7, 8, 9],\n",
       " [10, 11, 12, 13, 14],\n",
       " [15, 16, 17],\n",
       " [18, 19],\n",
       " [20, 21],\n",
       " [22, 23]]"
      ]
     },
     "execution_count": 23,
     "metadata": {},
     "output_type": "execute_result"
    }
   ],
   "source": [
    "depth\n"
   ]
  },
  {
   "cell_type": "code",
   "execution_count": 25,
   "metadata": {},
   "outputs": [
    {
     "data": {
      "text/plain": [
       "(24, 3)"
      ]
     },
     "execution_count": 25,
     "metadata": {},
     "output_type": "execute_result"
    }
   ],
   "source": [
    "rest_pose.shape"
   ]
  }
 ],
 "metadata": {
  "kernelspec": {
   "display_name": "py311",
   "language": "python",
   "name": "python3"
  },
  "language_info": {
   "codemirror_mode": {
    "name": "ipython",
    "version": 3
   },
   "file_extension": ".py",
   "mimetype": "text/x-python",
   "name": "python",
   "nbconvert_exporter": "python",
   "pygments_lexer": "ipython3",
   "version": "3.11.3"
  },
  "orig_nbformat": 4
 },
 "nbformat": 4,
 "nbformat_minor": 2
}
